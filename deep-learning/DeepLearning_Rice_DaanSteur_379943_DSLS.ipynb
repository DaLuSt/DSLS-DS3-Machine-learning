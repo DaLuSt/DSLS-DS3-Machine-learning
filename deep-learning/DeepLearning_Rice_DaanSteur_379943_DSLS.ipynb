{
 "cells": [
  {
   "cell_type": "markdown",
   "metadata": {},
   "source": [
    "## Supervised learning assignment\n",
    "- Name: Daan Steur\n",
    "- Studentnumber: 379943\n",
    "- Supervisor: Dr. Dave Langers\n",
    "- Course: DSLS Data Science 3: Deep learning\n",
    "- Date: 24th of june"
   ]
  },
  {
   "cell_type": "markdown",
   "metadata": {},
   "source": [
    "# Title\n",
    "\n",
    "## Assignment\n",
    "\n",
    "\n",
    "## data source\n"
   ]
  },
  {
   "cell_type": "code",
   "execution_count": 9,
   "metadata": {},
   "outputs": [],
   "source": [
    "# import packages\n",
    "import numpy as np\n",
    "import pandas as pd\n",
    "import matplotlib.pyplot as plt\n",
    "from tensorflow import keras\n",
    "from sklearn import naive_bayes\n",
    "import os, sys, wget, tarfile, zipfile, shutil, requests\n",
    "import opendatasets as od"
   ]
  },
  {
   "cell_type": "markdown",
   "metadata": {},
   "source": [
    "### Data Gathering process"
   ]
  },
  {
   "cell_type": "code",
   "execution_count": 39,
   "metadata": {},
   "outputs": [
    {
     "ename": "PermissionError",
     "evalue": "[Errno 13] Permission denied: 'data/'",
     "output_type": "error",
     "traceback": [
      "\u001b[1;31m---------------------------------------------------------------------------\u001b[0m",
      "\u001b[1;31mPermissionError\u001b[0m                           Traceback (most recent call last)",
      "\u001b[1;32mc:\\Users\\31613\\Desktop\\Git repositories\\DSLS-DS3-Machine-learning\\deep-learning\\DeepLearning_Rice_DaanSteur_379943_DSLS.ipynb Cell 5'\u001b[0m in \u001b[0;36m<cell line: 12>\u001b[1;34m()\u001b[0m\n\u001b[0;32m     <a href='vscode-notebook-cell:/c%3A/Users/31613/Desktop/Git%20repositories/DSLS-DS3-Machine-learning/deep-learning/DeepLearning_Rice_DaanSteur_379943_DSLS.ipynb#ch0000004?line=9'>10</a>\u001b[0m \u001b[39m# # put download into output folder\u001b[39;00m\n\u001b[0;32m     <a href='vscode-notebook-cell:/c%3A/Users/31613/Desktop/Git%20repositories/DSLS-DS3-Machine-learning/deep-learning/DeepLearning_Rice_DaanSteur_379943_DSLS.ipynb#ch0000004?line=10'>11</a>\u001b[0m r \u001b[39m=\u001b[39m requests\u001b[39m.\u001b[39mget(download_link, allow_redirects\u001b[39m=\u001b[39m\u001b[39mTrue\u001b[39;00m)\n\u001b[1;32m---> <a href='vscode-notebook-cell:/c%3A/Users/31613/Desktop/Git%20repositories/DSLS-DS3-Machine-learning/deep-learning/DeepLearning_Rice_DaanSteur_379943_DSLS.ipynb#ch0000004?line=11'>12</a>\u001b[0m \u001b[39mwith\u001b[39;00m \u001b[39mopen\u001b[39;49m(\u001b[39m'\u001b[39;49m\u001b[39mdata/\u001b[39;49m\u001b[39m'\u001b[39;49m, \u001b[39m'\u001b[39;49m\u001b[39mwb\u001b[39;49m\u001b[39m'\u001b[39;49m) \u001b[39mas\u001b[39;00m \u001b[39mzip\u001b[39m:\n\u001b[0;32m     <a href='vscode-notebook-cell:/c%3A/Users/31613/Desktop/Git%20repositories/DSLS-DS3-Machine-learning/deep-learning/DeepLearning_Rice_DaanSteur_379943_DSLS.ipynb#ch0000004?line=12'>13</a>\u001b[0m     \u001b[39mzip\u001b[39m\u001b[39m.\u001b[39mwrite(r\u001b[39m.\u001b[39mcontent)\n\u001b[0;32m     <a href='vscode-notebook-cell:/c%3A/Users/31613/Desktop/Git%20repositories/DSLS-DS3-Machine-learning/deep-learning/DeepLearning_Rice_DaanSteur_379943_DSLS.ipynb#ch0000004?line=13'>14</a>\u001b[0m \u001b[39m# check if file is downloaded\u001b[39;00m\n",
      "\u001b[1;31mPermissionError\u001b[0m: [Errno 13] Permission denied: 'data/'"
     ]
    }
   ],
   "source": [
    "# create output folder\n",
    "def create_dir(dir_name):\n",
    "    if not os.path.exists(dir_name):\n",
    "        os.makedirs(dir_name)\n",
    "        \n",
    "create_dir('data')\n",
    "    \n",
    "# Data download link\n",
    "download_link = \"https://www.kaggle.com/datasets/muratkokludataset/rice-image-dataset/download\"\n",
    "name = \"dlsteur\"\n",
    "api_key = \"a49873aeba9e95f082c95a51ae6c3266\"\n",
    "\n",
    "https://www.analyticsvidhya.com/blog/2021/04/how-to-download-kaggle-datasets-using-jupyter-notebook/\n",
    "\n",
    "od.download(\"https://www.kaggle.com/rashikrahmanpritom/heart-attack-analysis-prediction-dataset\")\n",
    "\n",
    "\n",
    "# # put download into output folder\n",
    "# r = requests.get(download_link, allow_redirects=True)\n",
    "# with open('data/', 'wb') as zip:\n",
    "#     zip.write(r.content)\n",
    "# # check if file is downloaded\n",
    "# if os.path.isfile('data/rice.zip'):\n",
    "#     print('File downloaded successfully')\n",
    "\n",
    "\n",
    "\n",
    "    \n",
    "\n",
    "# unzip file\n",
    "\n",
    "    \n",
    "\n"
   ]
  },
  {
   "cell_type": "markdown",
   "metadata": {},
   "source": [
    "### Exploration & preprocessing"
   ]
  },
  {
   "cell_type": "code",
   "execution_count": null,
   "metadata": {},
   "outputs": [],
   "source": []
  },
  {
   "cell_type": "markdown",
   "metadata": {},
   "source": [
    "### Baseline model"
   ]
  },
  {
   "cell_type": "code",
   "execution_count": null,
   "metadata": {},
   "outputs": [],
   "source": []
  },
  {
   "cell_type": "markdown",
   "metadata": {},
   "source": [
    "### Fully-connected neural network model"
   ]
  },
  {
   "cell_type": "code",
   "execution_count": null,
   "metadata": {},
   "outputs": [],
   "source": []
  },
  {
   "cell_type": "markdown",
   "metadata": {},
   "source": [
    "### Regularized convolutional neural network model"
   ]
  },
  {
   "cell_type": "code",
   "execution_count": null,
   "metadata": {},
   "outputs": [],
   "source": []
  }
 ],
 "metadata": {
  "kernelspec": {
   "display_name": "Python 3.8.13 ('base')",
   "language": "python",
   "name": "python3"
  },
  "language_info": {
   "codemirror_mode": {
    "name": "ipython",
    "version": 3
   },
   "file_extension": ".py",
   "mimetype": "text/x-python",
   "name": "python",
   "nbconvert_exporter": "python",
   "pygments_lexer": "ipython3",
   "version": "3.8.13"
  },
  "orig_nbformat": 4,
  "vscode": {
   "interpreter": {
    "hash": "ad2bdc8ecc057115af97d19610ffacc2b4e99fae6737bb82f5d7fb13d2f2c186"
   }
  }
 },
 "nbformat": 4,
 "nbformat_minor": 2
}
