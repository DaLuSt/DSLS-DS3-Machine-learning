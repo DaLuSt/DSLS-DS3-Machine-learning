{
 "cells": [
  {
   "cell_type": "markdown",
   "metadata": {},
   "source": [
    "## Supervised learning assignemtn\n",
    "##### Name: Daan Steur\n",
    "##### Studentnumber: 379943\n",
    "##### Supervisor: Drs. Bart Barnard\n",
    "##### Course: DSLS Data Science 3: Supervised learning\n",
    "##### Date: 27th of may"
   ]
  },
  {
   "cell_type": "markdown",
   "metadata": {},
   "source": [
    "### Prediction of health parameters based on patient informatio. \n",
    "\n",
    "#### Assignment \n",
    "Load, inspect and clean the data. Split the data into a training set and a validation set and a test set. Use a simple classifier as a baseline. Train various classifiers. Motivate your choice in relation to the characteristics of the dataset. Try to combine them into an ensemble learning model that outperforms all of the others\n",
    "\n",
    "#### Background\n",
    "\n",
    "\n",
    "#### Data\n",
    "Blood Pressure Data for disease Prediction\n",
    "Patient_Number\n",
    " - Blood_Pressure_Abnormality\n",
    " - Level_of_Hemoglobin\n",
    " - Genetic_Pedigree_Coefficient\n",
    " - Age\n",
    " - BMI\n",
    " - Sex\n",
    " - Pregnancy\n",
    " - Smoking\n",
    " - Physical_activity\n",
    " - salt_content_in_the_diet\n",
    " - alcohol_consumption_per_day\n",
    " - Level_of_Stress\n",
    " - Chronic_kidney_disease\n",
    " - Adrenal_and_thyroid_disorders"
   ]
  },
  {
   "cell_type": "markdown",
   "metadata": {},
   "source": [
    "Data & packages"
   ]
  },
  {
   "cell_type": "code",
   "execution_count": 1,
   "metadata": {},
   "outputs": [],
   "source": [
    "# load packages\n",
    "# base\n",
    "import pandas as pd\n",
    "import numpy as np\n",
    "import collections\n",
    "# plotting\n",
    "import matplotlib.pyplot as plt\n",
    "import seaborn as sns\n",
    "import pydotplus\n",
    "# stats\n",
    "import scipy.stats as stats\n",
    "import statsmodels.api as sm\n",
    "from exploration import *\n",
    "# Modeling\n",
    "from sklearn import linear_model, metrics, tree, preprocessing\n",
    "from sklearn.linear_model import LinearRegression\n",
    "from scipy.stats import mode\n",
    "from sklearn.preprocessing import LabelEncoder\n",
    "from sklearn.model_selection import train_test_split, cross_val_score\n",
    "from sklearn.svm import SVC\n",
    "from sklearn.naive_bayes import GaussianNB\n",
    "from sklearn.ensemble import RandomForestClassifier\n",
    "from sklearn.metrics import accuracy_score, precision_score, recall_score, mean_squared_error, mean_absolute_error, r2_score, confusion_matrix, classification_report"
   ]
  },
  {
   "cell_type": "code",
   "execution_count": 2,
   "metadata": {},
   "outputs": [
    {
     "data": {
      "text/html": [
       "<div>\n",
       "<style scoped>\n",
       "    .dataframe tbody tr th:only-of-type {\n",
       "        vertical-align: middle;\n",
       "    }\n",
       "\n",
       "    .dataframe tbody tr th {\n",
       "        vertical-align: top;\n",
       "    }\n",
       "\n",
       "    .dataframe thead th {\n",
       "        text-align: right;\n",
       "    }\n",
       "</style>\n",
       "<table border=\"1\" class=\"dataframe\">\n",
       "  <thead>\n",
       "    <tr style=\"text-align: right;\">\n",
       "      <th></th>\n",
       "      <th>Blood_Pressure_Abnormality</th>\n",
       "      <th>Chronic_kidney_disease</th>\n",
       "      <th>Adrenal_and_thyroid_disorders</th>\n",
       "      <th>Level_of_Hemoglobin</th>\n",
       "      <th>Genetic_Pedigree_Coefficient</th>\n",
       "      <th>Age</th>\n",
       "      <th>BMI</th>\n",
       "      <th>Sex</th>\n",
       "      <th>Pregnancy</th>\n",
       "      <th>Smoking</th>\n",
       "      <th>Physical_activity</th>\n",
       "      <th>salt_content_in_the_diet</th>\n",
       "      <th>alcohol_consumption_per_day</th>\n",
       "      <th>Level_of_Stress</th>\n",
       "    </tr>\n",
       "  </thead>\n",
       "  <tbody>\n",
       "    <tr>\n",
       "      <th>0</th>\n",
       "      <td>diseased</td>\n",
       "      <td>diseased</td>\n",
       "      <td>diseased</td>\n",
       "      <td>11.28</td>\n",
       "      <td>0.90</td>\n",
       "      <td>34</td>\n",
       "      <td>23</td>\n",
       "      <td>male</td>\n",
       "      <td>1.0</td>\n",
       "      <td>no</td>\n",
       "      <td>45961</td>\n",
       "      <td>48071</td>\n",
       "      <td>NaN</td>\n",
       "      <td>2</td>\n",
       "    </tr>\n",
       "    <tr>\n",
       "      <th>1</th>\n",
       "      <td>healthy</td>\n",
       "      <td>healthy</td>\n",
       "      <td>healthy</td>\n",
       "      <td>9.75</td>\n",
       "      <td>0.23</td>\n",
       "      <td>54</td>\n",
       "      <td>33</td>\n",
       "      <td>male</td>\n",
       "      <td>NaN</td>\n",
       "      <td>no</td>\n",
       "      <td>26106</td>\n",
       "      <td>25333</td>\n",
       "      <td>205.0</td>\n",
       "      <td>3</td>\n",
       "    </tr>\n",
       "    <tr>\n",
       "      <th>2</th>\n",
       "      <td>diseased</td>\n",
       "      <td>diseased</td>\n",
       "      <td>healthy</td>\n",
       "      <td>10.79</td>\n",
       "      <td>0.91</td>\n",
       "      <td>70</td>\n",
       "      <td>49</td>\n",
       "      <td>female</td>\n",
       "      <td>NaN</td>\n",
       "      <td>no</td>\n",
       "      <td>9995</td>\n",
       "      <td>29465</td>\n",
       "      <td>67.0</td>\n",
       "      <td>2</td>\n",
       "    </tr>\n",
       "    <tr>\n",
       "      <th>3</th>\n",
       "      <td>healthy</td>\n",
       "      <td>diseased</td>\n",
       "      <td>healthy</td>\n",
       "      <td>11.00</td>\n",
       "      <td>0.43</td>\n",
       "      <td>71</td>\n",
       "      <td>50</td>\n",
       "      <td>female</td>\n",
       "      <td>NaN</td>\n",
       "      <td>no</td>\n",
       "      <td>10635</td>\n",
       "      <td>7439</td>\n",
       "      <td>242.0</td>\n",
       "      <td>1</td>\n",
       "    </tr>\n",
       "    <tr>\n",
       "      <th>4</th>\n",
       "      <td>diseased</td>\n",
       "      <td>healthy</td>\n",
       "      <td>healthy</td>\n",
       "      <td>14.17</td>\n",
       "      <td>0.83</td>\n",
       "      <td>52</td>\n",
       "      <td>19</td>\n",
       "      <td>female</td>\n",
       "      <td>NaN</td>\n",
       "      <td>no</td>\n",
       "      <td>15619</td>\n",
       "      <td>49644</td>\n",
       "      <td>397.0</td>\n",
       "      <td>2</td>\n",
       "    </tr>\n",
       "  </tbody>\n",
       "</table>\n",
       "</div>"
      ],
      "text/plain": [
       "  Blood_Pressure_Abnormality Chronic_kidney_disease  \\\n",
       "0                   diseased               diseased   \n",
       "1                    healthy                healthy   \n",
       "2                   diseased               diseased   \n",
       "3                    healthy               diseased   \n",
       "4                   diseased                healthy   \n",
       "\n",
       "  Adrenal_and_thyroid_disorders  Level_of_Hemoglobin  \\\n",
       "0                      diseased                11.28   \n",
       "1                       healthy                 9.75   \n",
       "2                       healthy                10.79   \n",
       "3                       healthy                11.00   \n",
       "4                       healthy                14.17   \n",
       "\n",
       "   Genetic_Pedigree_Coefficient  Age  BMI     Sex  Pregnancy Smoking  \\\n",
       "0                          0.90   34   23    male        1.0      no   \n",
       "1                          0.23   54   33    male        NaN      no   \n",
       "2                          0.91   70   49  female        NaN      no   \n",
       "3                          0.43   71   50  female        NaN      no   \n",
       "4                          0.83   52   19  female        NaN      no   \n",
       "\n",
       "   Physical_activity  salt_content_in_the_diet  alcohol_consumption_per_day  \\\n",
       "0              45961                     48071                          NaN   \n",
       "1              26106                     25333                        205.0   \n",
       "2               9995                     29465                         67.0   \n",
       "3              10635                      7439                        242.0   \n",
       "4              15619                     49644                        397.0   \n",
       "\n",
       "   Level_of_Stress  \n",
       "0                2  \n",
       "1                3  \n",
       "2                2  \n",
       "3                1  \n",
       "4                2  "
      ]
     },
     "execution_count": 2,
     "metadata": {},
     "output_type": "execute_result"
    }
   ],
   "source": [
    "# load data\n",
    "data = pd.read_csv(\"data.csv\")\n",
    "# drop parient ids\n",
    "data.drop(['Patient_Number'], axis=1, inplace=True)\n",
    "# reoreder columns\n",
    "data = data[[\"Blood_Pressure_Abnormality\",\n",
    "            \"Chronic_kidney_disease\",\n",
    "             \"Adrenal_and_thyroid_disorders\",\n",
    "             \"Level_of_Hemoglobin\",\n",
    "             \"Genetic_Pedigree_Coefficient\",\n",
    "             \"Age\",\n",
    "             \"BMI\",\n",
    "             \"Sex\",\n",
    "             \"Pregnancy\",\n",
    "             \"Smoking\",\n",
    "             \"Physical_activity\",\n",
    "             \"salt_content_in_the_diet\",\n",
    "             \"alcohol_consumption_per_day\",\n",
    "             \"Level_of_Stress\",\n",
    "]]\n",
    "data[\"Sex\"] =  data[\"Sex\"].replace({1: \"male\", 0: \"female\"})\n",
    "data[\"Chronic_kidney_disease\"] =  data[\"Chronic_kidney_disease\"].replace({1: \"diseased\", 0: \"healthy\"})\n",
    "data[\"Adrenal_and_thyroid_disorders\"] =  data[\"Adrenal_and_thyroid_disorders\"].replace({1: \"diseased\", 0: \"healthy\"})\n",
    "data[\"Blood_Pressure_Abnormality\"] =  data[\"Blood_Pressure_Abnormality\"].replace({1: \"diseased\", 0: \"healthy\"})\n",
    "data[\"Smoking\"] =  data[\"Smoking\"].replace({1: \"yes\", 0: \"no\"})\n",
    "data.head()"
   ]
  },
  {
   "cell_type": "markdown",
   "metadata": {},
   "source": [
    "Data Exploration (EDA)"
   ]
  },
  {
   "cell_type": "code",
   "execution_count": 18,
   "metadata": {},
   "outputs": [
    {
     "name": "stderr",
     "output_type": "stream",
     "text": [
      "c:\\Users\\31613\\Desktop\\Git repositories\\DSLS-DS3-Machine-learning\\Supervised-learning\\exploration.py:31: SettingWithCopyWarning: \n",
      "A value is trying to be set on a copy of a slice from a DataFrame\n",
      "\n",
      "See the caveats in the documentation: https://pandas.pydata.org/pandas-docs/stable/user_guide/indexing.html#returning-a-view-versus-a-copy\n",
      "  # Continuous variables, descriptive statistics\n"
     ]
    },
    {
     "name": "stdout",
     "output_type": "stream",
     "text": [
      "                             N Obs    N Missing    N Valid    % Complete    N Unique      Mean        SD    Median       MAD    Min       Max    Skewness    Kurtosis  CV\n",
      "-------------------------  -------  -----------  ---------  ------------  ----------  --------  --------  --------  --------  -----  --------  ----------  ----------  ----\n",
      "Age                           2000            0       2000         100            58     46.56     17.11     46        22.24   18       75           0.02       -1.25  0.37\n",
      "alcohol_consumption_per_d     2000          242       1758          87.9         488    251.01    143.65    250       186.81    0      499          -0.01       -1.22\n",
      "BMI                           2000            0       2000         100            41     30.08     11.76     30        14.83   10       50          -0.02       -1.18  0.39\n",
      "Genetic_Pedigree_Coeffici     2000           92       1908          95.4         101      0.49      0.29      0.49      0.37    0        1           0.02       -1.18\n",
      "Level_of_Hemoglobin           2000            0       2000         100           757     11.71      2.19     11.33      2.02    8.1     17.56        0.66       -0.18  0.19\n",
      "Level_of_Stress               2000            0       2000         100             3      2.01      0.82      2         1.48    1        3          -0.02       -1.53  0.41\n",
      "Physical_activity             2000            0       2000         100          1951  25254.4   14015.4   25353     17633.3   628    49980          -0.01       -1.16  0.55\n",
      "Pregnancy                     2000         1558        442          22.1           2      0.45      0.5       0         0       0        1           0.2        -1.97\n",
      "salt_content_in_the_diet      2000            0       2000         100          1945  24926.1   14211.7   25046.5   17514      22    49976          -0.02       -1.15  0.57\n",
      "Sex                           2000            0       2000         100             2      0.5       0.5       0         0       0        1           0.02       -2\n",
      "Smoking                       2000            0       2000         100             2      0.51      0.5       1         0       0        1          -0.04       -2\n",
      "                             N Obs    N Missing    N Valid    % Complete    N Unique\n",
      "-------------------------  -------  -----------  ---------  ------------  ----------\n",
      "Blood_Pressure_Abnormalit     2000            0       2000           100           2\n",
      "Chronic_kidney_disease        2000            0       2000           100           2\n"
     ]
    },
    {
     "ename": "AttributeError",
     "evalue": "type object 'exploration' has no attribute 'violin'",
     "output_type": "error",
     "traceback": [
      "\u001b[1;31m---------------------------------------------------------------------------\u001b[0m",
      "\u001b[1;31mAttributeError\u001b[0m                            Traceback (most recent call last)",
      "\u001b[1;32mc:\\Users\\31613\\Desktop\\Git repositories\\DSLS-DS3-Machine-learning\\Supervised-learning\\Supervisedlearning_Assingment_DaanSteur_379943_DSLS.ipynb Cell 7'\u001b[0m in \u001b[0;36m<cell line: 5>\u001b[1;34m()\u001b[0m\n\u001b[0;32m      <a href='vscode-notebook-cell:/c%3A/Users/31613/Desktop/Git%20repositories/DSLS-DS3-Machine-learning/Supervised-learning/Supervisedlearning_Assingment_DaanSteur_379943_DSLS.ipynb#ch0000006?line=1'>2</a>\u001b[0m exploration\u001b[39m.\u001b[39mdata_exploration_csv(\u001b[39m\"\u001b[39m\u001b[39mdata.csv\u001b[39m\u001b[39m\"\u001b[39m)\n\u001b[0;32m      <a href='vscode-notebook-cell:/c%3A/Users/31613/Desktop/Git%20repositories/DSLS-DS3-Machine-learning/Supervised-learning/Supervisedlearning_Assingment_DaanSteur_379943_DSLS.ipynb#ch0000006?line=2'>3</a>\u001b[0m exploration\u001b[39m.\u001b[39mCategorical_Variables_csv(\u001b[39m\"\u001b[39m\u001b[39mdata.csv\u001b[39m\u001b[39m\"\u001b[39m)\n\u001b[1;32m----> <a href='vscode-notebook-cell:/c%3A/Users/31613/Desktop/Git%20repositories/DSLS-DS3-Machine-learning/Supervised-learning/Supervisedlearning_Assingment_DaanSteur_379943_DSLS.ipynb#ch0000006?line=4'>5</a>\u001b[0m exploration\u001b[39m.\u001b[39;49mviolin(\u001b[39m\"\u001b[39m\u001b[39mGenetic_Pedigree_Coefficient\u001b[39m\u001b[39m\"\u001b[39m, data)\n\u001b[0;32m      <a href='vscode-notebook-cell:/c%3A/Users/31613/Desktop/Git%20repositories/DSLS-DS3-Machine-learning/Supervised-learning/Supervisedlearning_Assingment_DaanSteur_379943_DSLS.ipynb#ch0000006?line=5'>6</a>\u001b[0m exploration\u001b[39m.\u001b[39mviolin(\u001b[39m\"\u001b[39m\u001b[39mAge\u001b[39m\u001b[39m\"\u001b[39m, data)\n\u001b[0;32m      <a href='vscode-notebook-cell:/c%3A/Users/31613/Desktop/Git%20repositories/DSLS-DS3-Machine-learning/Supervised-learning/Supervisedlearning_Assingment_DaanSteur_379943_DSLS.ipynb#ch0000006?line=6'>7</a>\u001b[0m exploration\u001b[39m.\u001b[39mviolin(\u001b[39m\"\u001b[39m\u001b[39mLevel_of_Hemoglobin\u001b[39m\u001b[39m\"\u001b[39m, data)\n",
      "\u001b[1;31mAttributeError\u001b[0m: type object 'exploration' has no attribute 'violin'"
     ]
    }
   ],
   "source": [
    "# overview of data\n",
    "exploration.data_exploration_csv(\"data.csv\")\n",
    "exploration.Categorical_Variables_csv(\"data.csv\")\n",
    "\n",
    "exploration.violin(\"Genetic_Pedigree_Coefficient\", data)\n",
    "exploration.violin(\"Age\", data)\n",
    "exploration.violin(\"Level_of_Hemoglobin\", data)\n",
    "exploration.violin(\"BMI\", data)"
   ]
  },
  {
   "cell_type": "code",
   "execution_count": 4,
   "metadata": {},
   "outputs": [],
   "source": [
    "# drop rows with na values\n",
    "data = data.dropna(subset=[\"Genetic_Pedigree_Coefficient\"])"
   ]
  },
  {
   "cell_type": "code",
   "execution_count": 5,
   "metadata": {},
   "outputs": [
    {
     "data": {
      "text/plain": [
       "<AxesSubplot:>"
      ]
     },
     "execution_count": 5,
     "metadata": {},
     "output_type": "execute_result"
    },
    {
     "data": {
      "image/png": "[encoded data removed]",
      "text/plain": [
       "<Figure size 1152x1152 with 2 Axes>"
      ]
     },
     "metadata": {
      "needs_background": "light"
     },
     "output_type": "display_data"
    }
   ],
   "source": [
    "# Calculate correlation between each pair of variable\n",
    "corr_matrix=data.corr()\n",
    " \n",
    "# Can be great to plot only a half matrix\n",
    "# Generate a mask for the upper triangle\n",
    "mask = np.zeros_like(corr_matrix)\n",
    "mask[np.triu_indices_from(mask)] = True\n",
    "\n",
    "# Draw the heatmap with the mask\n",
    "plt.figure(figsize=(16,16))\n",
    "sns.heatmap(corr_matrix, annot=True, annot_kws={\"size\": 12}, square=True, mask=mask)"
   ]
  },
  {
   "cell_type": "markdown",
   "metadata": {},
   "source": [
    "### model selection"
   ]
  },
  {
   "cell_type": "code",
   "execution_count": 6,
   "metadata": {},
   "outputs": [
    {
     "data": {
      "text/html": [
       "<div>\n",
       "<style scoped>\n",
       "    .dataframe tbody tr th:only-of-type {\n",
       "        vertical-align: middle;\n",
       "    }\n",
       "\n",
       "    .dataframe tbody tr th {\n",
       "        vertical-align: top;\n",
       "    }\n",
       "\n",
       "    .dataframe thead th {\n",
       "        text-align: right;\n",
       "    }\n",
       "</style>\n",
       "<table border=\"1\" class=\"dataframe\">\n",
       "  <thead>\n",
       "    <tr style=\"text-align: right;\">\n",
       "      <th></th>\n",
       "      <th>Blood_Pressure_Abnormality</th>\n",
       "      <th>Chronic_kidney_disease</th>\n",
       "      <th>Adrenal_and_thyroid_disorders</th>\n",
       "      <th>Level_of_Hemoglobin</th>\n",
       "      <th>Genetic_Pedigree_Coefficient</th>\n",
       "      <th>Age</th>\n",
       "      <th>BMI</th>\n",
       "      <th>Sex</th>\n",
       "      <th>Pregnancy</th>\n",
       "      <th>Smoking</th>\n",
       "      <th>Physical_activity</th>\n",
       "      <th>salt_content_in_the_diet</th>\n",
       "      <th>alcohol_consumption_per_day</th>\n",
       "      <th>Level_of_Stress</th>\n",
       "    </tr>\n",
       "  </thead>\n",
       "  <tbody>\n",
       "    <tr>\n",
       "      <th>0</th>\n",
       "      <td>diseased</td>\n",
       "      <td>diseased</td>\n",
       "      <td>diseased</td>\n",
       "      <td>11.28</td>\n",
       "      <td>0.90</td>\n",
       "      <td>34</td>\n",
       "      <td>23</td>\n",
       "      <td>male</td>\n",
       "      <td>1.0</td>\n",
       "      <td>no</td>\n",
       "      <td>45961</td>\n",
       "      <td>48071</td>\n",
       "      <td>NaN</td>\n",
       "      <td>2</td>\n",
       "    </tr>\n",
       "    <tr>\n",
       "      <th>1</th>\n",
       "      <td>healthy</td>\n",
       "      <td>healthy</td>\n",
       "      <td>healthy</td>\n",
       "      <td>9.75</td>\n",
       "      <td>0.23</td>\n",
       "      <td>54</td>\n",
       "      <td>33</td>\n",
       "      <td>male</td>\n",
       "      <td>NaN</td>\n",
       "      <td>no</td>\n",
       "      <td>26106</td>\n",
       "      <td>25333</td>\n",
       "      <td>205.0</td>\n",
       "      <td>3</td>\n",
       "    </tr>\n",
       "    <tr>\n",
       "      <th>2</th>\n",
       "      <td>diseased</td>\n",
       "      <td>diseased</td>\n",
       "      <td>healthy</td>\n",
       "      <td>10.79</td>\n",
       "      <td>0.91</td>\n",
       "      <td>70</td>\n",
       "      <td>49</td>\n",
       "      <td>female</td>\n",
       "      <td>NaN</td>\n",
       "      <td>no</td>\n",
       "      <td>9995</td>\n",
       "      <td>29465</td>\n",
       "      <td>67.0</td>\n",
       "      <td>2</td>\n",
       "    </tr>\n",
       "    <tr>\n",
       "      <th>3</th>\n",
       "      <td>healthy</td>\n",
       "      <td>diseased</td>\n",
       "      <td>healthy</td>\n",
       "      <td>11.00</td>\n",
       "      <td>0.43</td>\n",
       "      <td>71</td>\n",
       "      <td>50</td>\n",
       "      <td>female</td>\n",
       "      <td>NaN</td>\n",
       "      <td>no</td>\n",
       "      <td>10635</td>\n",
       "      <td>7439</td>\n",
       "      <td>242.0</td>\n",
       "      <td>1</td>\n",
       "    </tr>\n",
       "    <tr>\n",
       "      <th>4</th>\n",
       "      <td>diseased</td>\n",
       "      <td>healthy</td>\n",
       "      <td>healthy</td>\n",
       "      <td>14.17</td>\n",
       "      <td>0.83</td>\n",
       "      <td>52</td>\n",
       "      <td>19</td>\n",
       "      <td>female</td>\n",
       "      <td>NaN</td>\n",
       "      <td>no</td>\n",
       "      <td>15619</td>\n",
       "      <td>49644</td>\n",
       "      <td>397.0</td>\n",
       "      <td>2</td>\n",
       "    </tr>\n",
       "  </tbody>\n",
       "</table>\n",
       "</div>"
      ],
      "text/plain": [
       "  Blood_Pressure_Abnormality Chronic_kidney_disease Adrenal_and_thyroid_disorders  Level_of_Hemoglobin  Genetic_Pedigree_Coefficient  Age  BMI     Sex  Pregnancy Smoking  Physical_activity  salt_content_in_the_diet  alcohol_consumption_per_day  Level_of_Stress\n",
       "0                   diseased               diseased                      diseased                11.28                          0.90   34   23    male        1.0      no              45961                     48071                          NaN                2\n",
       "1                    healthy                healthy                       healthy                 9.75                          0.23   54   33    male        NaN      no              26106                     25333                        205.0                3\n",
       "2                   diseased               diseased                       healthy                10.79                          0.91   70   49  female        NaN      no               9995                     29465                         67.0                2\n",
       "3                    healthy               diseased                       healthy                11.00                          0.43   71   50  female        NaN      no              10635                      7439                        242.0                1\n",
       "4                   diseased                healthy                       healthy                14.17                          0.83   52   19  female        NaN      no              15619                     49644                        397.0                2"
      ]
     },
     "execution_count": 6,
     "metadata": {},
     "output_type": "execute_result"
    }
   ],
   "source": [
    "data.head()"
   ]
  },
  {
   "cell_type": "code",
   "execution_count": 7,
   "metadata": {},
   "outputs": [
    {
     "name": "stdout",
     "output_type": "stream",
     "text": [
      "['Blood_Pressure_Abnormality']\n",
      "['diseased']\n",
      "Genetic_Pedigree_Coefficient\n",
      "[ 0.9 34.  23.   2. ]\n"
     ]
    }
   ],
   "source": [
    "# organise data\n",
    "label_names = ['Blood_Pressure_Abnormality']\n",
    "labels = data[label_names].to_numpy()\n",
    "feature_names = ['Genetic_Pedigree_Coefficient', 'Age', 'BMI','Level_of_Stress']\n",
    "features = data[feature_names].to_numpy()\n",
    "\n",
    "print(label_names)\n",
    "print(labels[0])\n",
    "print(feature_names[0])\n",
    "print(features[0])\n",
    "\n",
    "train, test, train_labels, test_labels = train_test_split(features, labels, test_size=0.2, random_state=42)\n"
   ]
  },
  {
   "cell_type": "markdown",
   "metadata": {},
   "source": [
    "### Naïve Bayes Classifier\n",
    "Naïve Bayes is a classification technique used to build classifier using the Bayes theorem. The assumption is that the predictors are independent. In simple words, it assumes that the presence of a particular feature in a class is unrelated to the presence of any other feature"
   ]
  },
  {
   "cell_type": "code",
   "execution_count": 8,
   "metadata": {},
   "outputs": [
    {
     "name": "stdout",
     "output_type": "stream",
     "text": [
      "['diseased' 'diseased' 'healthy' 'diseased' 'diseased' 'healthy'\n",
      " 'diseased' 'diseased' 'diseased' 'healthy' 'healthy' 'diseased' 'healthy'\n",
      " 'healthy' 'diseased' 'diseased' 'diseased' 'diseased' 'healthy' 'healthy'\n",
      " 'healthy' 'healthy' 'diseased' 'diseased' 'diseased']\n",
      "0.7329842931937173\n",
      "[[142  43]\n",
      " [ 59 138]]\n",
      "              precision    recall  f1-score   support\n",
      "\n",
      "    diseased       0.71      0.77      0.74       185\n",
      "     healthy       0.76      0.70      0.73       197\n",
      "\n",
      "    accuracy                           0.73       382\n",
      "   macro avg       0.73      0.73      0.73       382\n",
      "weighted avg       0.74      0.73      0.73       382\n",
      "\n"
     ]
    },
    {
     "name": "stderr",
     "output_type": "stream",
     "text": [
      "c:\\ProgramData\\Anaconda3\\lib\\site-packages\\sklearn\\utils\\validation.py:993: DataConversionWarning: A column-vector y was passed when a 1d array was expected. Please change the shape of y to (n_samples, ), for example using ravel().\n",
      "  y = column_or_1d(y, warn=True)\n"
     ]
    }
   ],
   "source": [
    "# naive base model\n",
    "gnb = GaussianNB()\n",
    "model = gnb.fit(train, train_labels)\n",
    "preds = gnb.predict(test)\n",
    "print(preds[0:25])\n",
    "\n",
    "print(accuracy_score(test_labels,preds))\n",
    "confusion_matrix = confusion_matrix(test_labels, preds)\n",
    "print(confusion_matrix)\n",
    "print(classification_report(test_labels, preds))\n"
   ]
  },
  {
   "cell_type": "markdown",
   "metadata": {},
   "source": [
    "### Logistic Regression\n",
    "Basically, logistic regression model is one of the members of supervised classification algorithm family. Logistic regression measures the relationship between dependent variables and independent variables by estimating the probabilities using a logistic function."
   ]
  },
  {
   "cell_type": "code",
   "execution_count": 9,
   "metadata": {},
   "outputs": [
    {
     "name": "stdout",
     "output_type": "stream",
     "text": [
      "['healthy' 'healthy' 'diseased' 'diseased' 'diseased' 'diseased' 'healthy'\n",
      " 'diseased' 'diseased' 'diseased' 'diseased' 'healthy' 'diseased'\n",
      " 'diseased' 'healthy' 'healthy' 'diseased' 'diseased' 'healthy' 'healthy'\n",
      " 'healthy' 'healthy' 'healthy' 'diseased' 'healthy']\n",
      "0.4816753926701571\n"
     ]
    },
    {
     "name": "stderr",
     "output_type": "stream",
     "text": [
      "c:\\ProgramData\\Anaconda3\\lib\\site-packages\\sklearn\\utils\\validation.py:993: DataConversionWarning: A column-vector y was passed when a 1d array was expected. Please change the shape of y to (n_samples, ), for example using ravel().\n",
      "  y = column_or_1d(y, warn=True)\n"
     ]
    }
   ],
   "source": [
    "# Logistic Regression\n",
    "lorm = linear_model.LogisticRegression()\n",
    "model = lorm.fit(train, train_labels)\n",
    "preds = lorm.predict(test)\n",
    "print(preds[0:25])\n",
    "print(accuracy_score(test_labels,preds))\n"
   ]
  },
  {
   "cell_type": "markdown",
   "metadata": {},
   "source": [
    "#### Support Vector Machines\n",
    "Basically, Support vector machine (SVM) is a supervised machine learning algorithm that can be used for both regression and classification. The main concept of SVM is to plot each data item as a point in n-dimensional space with the value of each feature being the value of a particular coordinate. Here n would be the features we would have."
   ]
  },
  {
   "cell_type": "code",
   "execution_count": 10,
   "metadata": {},
   "outputs": [
    {
     "name": "stderr",
     "output_type": "stream",
     "text": [
      "c:\\ProgramData\\Anaconda3\\lib\\site-packages\\sklearn\\utils\\validation.py:993: DataConversionWarning: A column-vector y was passed when a 1d array was expected. Please change the shape of y to (n_samples, ), for example using ravel().\n",
      "  y = column_or_1d(y, warn=True)\n"
     ]
    },
    {
     "name": "stdout",
     "output_type": "stream",
     "text": [
      "['healthy' 'healthy' 'diseased' 'diseased' 'diseased' 'diseased' 'healthy'\n",
      " 'diseased' 'healthy' 'diseased' 'healthy' 'healthy' 'diseased' 'diseased'\n",
      " 'healthy' 'diseased' 'healthy' 'diseased' 'healthy' 'healthy' 'diseased'\n",
      " 'healthy' 'healthy' 'diseased' 'healthy']\n",
      "0.5052356020942408\n"
     ]
    }
   ],
   "source": [
    "svm = SVC()\n",
    "model = svm.fit(train, train_labels)\n",
    "preds = svm.predict(test)\n",
    "print(preds[0:25])\n",
    "print(accuracy_score(test_labels,preds))\n"
   ]
  },
  {
   "cell_type": "markdown",
   "metadata": {},
   "source": [
    "#### Decision Tree Classifier\n",
    "A decision tree is basically a binary tree flowchart where each node splits a group of observations according to some feature variable"
   ]
  },
  {
   "cell_type": "code",
   "execution_count": null,
   "metadata": {},
   "outputs": [],
   "source": []
  },
  {
   "cell_type": "markdown",
   "metadata": {},
   "source": [
    "#### Stacking models"
   ]
  },
  {
   "cell_type": "code",
   "execution_count": 11,
   "metadata": {},
   "outputs": [
    {
     "name": "stdout",
     "output_type": "stream",
     "text": [
      ">lr 0.866 (0.029)\n",
      ">knn 0.931 (0.025)\n",
      ">cart 0.827 (0.045)\n",
      ">svm 0.957 (0.020)\n",
      ">bayes 0.833 (0.031)\n"
     ]
    },
    {
     "data": {
      "image/png": "[encoded data removed]",
      "text/plain": [
       "<Figure size 432x288 with 1 Axes>"
      ]
     },
     "metadata": {
      "needs_background": "light"
     },
     "output_type": "display_data"
    }
   ],
   "source": [
    "# compare standalone models for binary classification\n",
    "from numpy import mean\n",
    "from numpy import std\n",
    "from sklearn.datasets import make_classification\n",
    "from sklearn.model_selection import cross_val_score\n",
    "from sklearn.model_selection import RepeatedStratifiedKFold\n",
    "from sklearn.linear_model import LogisticRegression\n",
    "from sklearn.neighbors import KNeighborsClassifier\n",
    "from sklearn.tree import DecisionTreeClassifier\n",
    "from sklearn.svm import SVC\n",
    "from sklearn.naive_bayes import GaussianNB\n",
    "from matplotlib import pyplot\n",
    " \n",
    "# get the dataset\n",
    "def get_dataset():\n",
    "\tX, y = make_classification(n_samples=1000, n_features=20, n_informative=15, n_redundant=5, random_state=1)\n",
    "\treturn X, y\n",
    " \n",
    "# get a list of models to evaluate\n",
    "def get_models():\n",
    "\tmodels = dict()\n",
    "\tmodels['lr'] = LogisticRegression()\n",
    "\tmodels['knn'] = KNeighborsClassifier()\n",
    "\tmodels['cart'] = DecisionTreeClassifier()\n",
    "\tmodels['svm'] = SVC()\n",
    "\tmodels['bayes'] = GaussianNB()\n",
    "\treturn models\n",
    " \n",
    "# evaluate a given model using cross-validation\n",
    "def evaluate_model(model, X, y):\n",
    "\tcv = RepeatedStratifiedKFold(n_splits=10, n_repeats=3, random_state=1)\n",
    "\tscores = cross_val_score(model, X, y, scoring='accuracy', cv=cv, n_jobs=-1, error_score='raise')\n",
    "\treturn scores\n",
    " \n",
    "# define dataset\n",
    "X, y = get_dataset()\n",
    "# get the models to evaluate\n",
    "models = get_models()\n",
    "# evaluate the models and store results\n",
    "results, names = list(), list()\n",
    "for name, model in models.items():\n",
    "\tscores = evaluate_model(model, X, y)\n",
    "\tresults.append(scores)\n",
    "\tnames.append(name)\n",
    "\tprint('>%s %.3f (%.3f)' % (name, mean(scores), std(scores)))\n",
    "# plot model performance for comparison\n",
    "pyplot.boxplot(results, labels=names, showmeans=True)\n",
    "pyplot.show()"
   ]
  }
 ],
 "metadata": {
  "interpreter": {
   "hash": "ad2bdc8ecc057115af97d19610ffacc2b4e99fae6737bb82f5d7fb13d2f2c186"
  },
  "kernelspec": {
   "display_name": "Python 3.8.12 ('base')",
   "language": "python",
   "name": "python3"
  },
  "language_info": {
   "codemirror_mode": {
    "name": "ipython",
    "version": 3
   },
   "file_extension": ".py",
   "mimetype": "text/x-python",
   "name": "python",
   "nbconvert_exporter": "python",
   "pygments_lexer": "ipython3",
   "version": "3.8.13"
  },
  "orig_nbformat": 4
 },
 "nbformat": 4,
 "nbformat_minor": 2
}
