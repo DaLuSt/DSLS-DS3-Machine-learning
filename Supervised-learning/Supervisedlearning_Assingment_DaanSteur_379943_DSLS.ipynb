{
 "cells": [
  {
   "cell_type": "markdown",
   "metadata": {},
   "source": [
    "## Supervised learning assignemtn\n",
    "##### Name: Daan Steur\n",
    "##### Studentnumber: 379943\n",
    "##### Supervisor: Drs. Bart Barnard\n",
    "##### Course: DSLS Data Science 3: Supervised learning\n",
    "##### Date: 27th of may"
   ]
  },
  {
   "cell_type": "markdown",
   "metadata": {},
   "source": [
    "### Prediction of health parameters based on patient informatio. \n",
    "\n",
    "#### Assignment \n",
    "Load, inspect and clean the data. Split the data into a training set and a validation set and a test set. Use a simple classifier as a baseline. Train various classifiers. Motivate your choice in relation to the characteristics of the dataset. Try to combine them into an ensemble learning model that outperforms all of the others\n",
    "\n",
    "#### Background\n",
    "\n",
    "\n",
    "#### Data source\n",
    "Blood Pressure Data for disease Prediction\n",
    "(kaggle) : https://www.kaggle.com/datasets/pavanbodanki/blood-press?resource=download\n",
    "\n",
    "\n",
    "#### Refrences"
   ]
  },
  {
   "cell_type": "markdown",
   "metadata": {},
   "source": [
    "Data Collection"
   ]
  },
  {
   "cell_type": "code",
   "execution_count": 4,
   "metadata": {},
   "outputs": [],
   "source": [
    "# load packages\n",
    "import pandas as pd\n",
    "import numpy as np\n",
    "import matplotlib.pyplot as plt\n",
    "import seaborn as sns\n",
    "import scipy.stats as stats\n",
    "import math\n",
    "import statsmodels.api as sm\n",
    "from tabulate import tabulate\n",
    "import sklearn\n",
    "from sklearn import linear_model\n",
    "from sklearn.model_selection import train_test_split"
   ]
  },
  {
   "cell_type": "code",
   "execution_count": 8,
   "metadata": {},
   "outputs": [
    {
     "name": "stdout",
     "output_type": "stream",
     "text": [
      "<class 'pandas.core.frame.DataFrame'>\n",
      "RangeIndex: 2000 entries, 0 to 1999\n",
      "Data columns (total 15 columns):\n",
      " #   Column                         Non-Null Count  Dtype  \n",
      "---  ------                         --------------  -----  \n",
      " 0   Patient_Number                 2000 non-null   int64  \n",
      " 1   Blood_Pressure_Abnormality     2000 non-null   int64  \n",
      " 2   Level_of_Hemoglobin            2000 non-null   float64\n",
      " 3   Genetic_Pedigree_Coefficient   1908 non-null   float64\n",
      " 4   Age                            2000 non-null   int64  \n",
      " 5   BMI                            2000 non-null   int64  \n",
      " 6   Sex                            2000 non-null   int64  \n",
      " 7   Pregnancy                      442 non-null    float64\n",
      " 8   Smoking                        2000 non-null   int64  \n",
      " 9   Physical_activity              2000 non-null   int64  \n",
      " 10  salt_content_in_the_diet       2000 non-null   int64  \n",
      " 11  alcohol_consumption_per_day    1758 non-null   float64\n",
      " 12  Level_of_Stress                2000 non-null   int64  \n",
      " 13  Chronic_kidney_disease         2000 non-null   int64  \n",
      " 14  Adrenal_and_thyroid_disorders  2000 non-null   int64  \n",
      "dtypes: float64(4), int64(11)\n",
      "memory usage: 234.5 KB\n"
     ]
    },
    {
     "data": {
      "text/html": [
       "<div>\n",
       "<style scoped>\n",
       "    .dataframe tbody tr th:only-of-type {\n",
       "        vertical-align: middle;\n",
       "    }\n",
       "\n",
       "    .dataframe tbody tr th {\n",
       "        vertical-align: top;\n",
       "    }\n",
       "\n",
       "    .dataframe thead th {\n",
       "        text-align: right;\n",
       "    }\n",
       "</style>\n",
       "<table border=\"1\" class=\"dataframe\">\n",
       "  <thead>\n",
       "    <tr style=\"text-align: right;\">\n",
       "      <th></th>\n",
       "      <th>Patient_Number</th>\n",
       "      <th>Blood_Pressure_Abnormality</th>\n",
       "      <th>Level_of_Hemoglobin</th>\n",
       "      <th>Genetic_Pedigree_Coefficient</th>\n",
       "      <th>Age</th>\n",
       "      <th>BMI</th>\n",
       "      <th>Sex</th>\n",
       "      <th>Pregnancy</th>\n",
       "      <th>Smoking</th>\n",
       "      <th>Physical_activity</th>\n",
       "      <th>salt_content_in_the_diet</th>\n",
       "      <th>alcohol_consumption_per_day</th>\n",
       "      <th>Level_of_Stress</th>\n",
       "      <th>Chronic_kidney_disease</th>\n",
       "      <th>Adrenal_and_thyroid_disorders</th>\n",
       "    </tr>\n",
       "  </thead>\n",
       "  <tbody>\n",
       "    <tr>\n",
       "      <th>0</th>\n",
       "      <td>1</td>\n",
       "      <td>1</td>\n",
       "      <td>11.28</td>\n",
       "      <td>0.90</td>\n",
       "      <td>34</td>\n",
       "      <td>23</td>\n",
       "      <td>1</td>\n",
       "      <td>1.0</td>\n",
       "      <td>0</td>\n",
       "      <td>45961</td>\n",
       "      <td>48071</td>\n",
       "      <td>NaN</td>\n",
       "      <td>2</td>\n",
       "      <td>1</td>\n",
       "      <td>1</td>\n",
       "    </tr>\n",
       "    <tr>\n",
       "      <th>1</th>\n",
       "      <td>2</td>\n",
       "      <td>0</td>\n",
       "      <td>9.75</td>\n",
       "      <td>0.23</td>\n",
       "      <td>54</td>\n",
       "      <td>33</td>\n",
       "      <td>1</td>\n",
       "      <td>NaN</td>\n",
       "      <td>0</td>\n",
       "      <td>26106</td>\n",
       "      <td>25333</td>\n",
       "      <td>205.0</td>\n",
       "      <td>3</td>\n",
       "      <td>0</td>\n",
       "      <td>0</td>\n",
       "    </tr>\n",
       "    <tr>\n",
       "      <th>2</th>\n",
       "      <td>3</td>\n",
       "      <td>1</td>\n",
       "      <td>10.79</td>\n",
       "      <td>0.91</td>\n",
       "      <td>70</td>\n",
       "      <td>49</td>\n",
       "      <td>0</td>\n",
       "      <td>NaN</td>\n",
       "      <td>0</td>\n",
       "      <td>9995</td>\n",
       "      <td>29465</td>\n",
       "      <td>67.0</td>\n",
       "      <td>2</td>\n",
       "      <td>1</td>\n",
       "      <td>0</td>\n",
       "    </tr>\n",
       "    <tr>\n",
       "      <th>3</th>\n",
       "      <td>4</td>\n",
       "      <td>0</td>\n",
       "      <td>11.00</td>\n",
       "      <td>0.43</td>\n",
       "      <td>71</td>\n",
       "      <td>50</td>\n",
       "      <td>0</td>\n",
       "      <td>NaN</td>\n",
       "      <td>0</td>\n",
       "      <td>10635</td>\n",
       "      <td>7439</td>\n",
       "      <td>242.0</td>\n",
       "      <td>1</td>\n",
       "      <td>1</td>\n",
       "      <td>0</td>\n",
       "    </tr>\n",
       "    <tr>\n",
       "      <th>4</th>\n",
       "      <td>5</td>\n",
       "      <td>1</td>\n",
       "      <td>14.17</td>\n",
       "      <td>0.83</td>\n",
       "      <td>52</td>\n",
       "      <td>19</td>\n",
       "      <td>0</td>\n",
       "      <td>NaN</td>\n",
       "      <td>0</td>\n",
       "      <td>15619</td>\n",
       "      <td>49644</td>\n",
       "      <td>397.0</td>\n",
       "      <td>2</td>\n",
       "      <td>0</td>\n",
       "      <td>0</td>\n",
       "    </tr>\n",
       "  </tbody>\n",
       "</table>\n",
       "</div>"
      ],
      "text/plain": [
       "   Patient_Number  Blood_Pressure_Abnormality  Level_of_Hemoglobin  Genetic_Pedigree_Coefficient  Age  BMI  Sex  Pregnancy  Smoking  Physical_activity  salt_content_in_the_diet  alcohol_consumption_per_day  Level_of_Stress  Chronic_kidney_disease  Adrenal_and_thyroid_disorders\n",
       "0               1                           1                11.28                          0.90   34   23    1        1.0        0              45961                     48071                          NaN                2                       1                              1\n",
       "1               2                           0                 9.75                          0.23   54   33    1        NaN        0              26106                     25333                        205.0                3                       0                              0\n",
       "2               3                           1                10.79                          0.91   70   49    0        NaN        0               9995                     29465                         67.0                2                       1                              0\n",
       "3               4                           0                11.00                          0.43   71   50    0        NaN        0              10635                      7439                        242.0                1                       1                              0\n",
       "4               5                           1                14.17                          0.83   52   19    0        NaN        0              15619                     49644                        397.0                2                       0                              0"
      ]
     },
     "execution_count": 8,
     "metadata": {},
     "output_type": "execute_result"
    }
   ],
   "source": [
    "url = 'https://raw.githubusercontent.com/DaanSteur/DSLS/master/data/data.csv'\n",
    "Data = pd.read_csv(\"data.csv\")\n",
    "# Data.drop(['Adrenal_and_thyroid_disorders','Chronic_kidney_disease'], axis=1, inplace=True)\n",
    "Data.info()\n",
    "Data.head()"
   ]
  },
  {
   "cell_type": "markdown",
   "metadata": {},
   "source": []
  },
  {
   "cell_type": "markdown",
   "metadata": {},
   "source": [
    "Data Exploration (EDA)"
   ]
  },
  {
   "cell_type": "code",
   "execution_count": 6,
   "metadata": {},
   "outputs": [
    {
     "name": "stderr",
     "output_type": "stream",
     "text": [
      "C:\\Users\\31613\\AppData\\Local\\Temp\\ipykernel_6984\\2899805427.py:18: SettingWithCopyWarning: \n",
      "A value is trying to be set on a copy of a slice from a DataFrame\n",
      "\n",
      "See the caveats in the documentation: https://pandas.pydata.org/pandas-docs/stable/user_guide/indexing.html#returning-a-view-versus-a-copy\n",
      "  df_num.sort_index(axis=1, inplace=True, key=lambda x: x.str.lower())\n"
     ]
    },
    {
     "name": "stdout",
     "output_type": "stream",
     "text": [
      "                             N Obs    N Missing    N Valid    % Complete    N Unique      Mean        SD    Median       MAD    Min       Max    Skewness    Kurtosis  CV\n",
      "-------------------------  -------  -----------  ---------  ------------  ----------  --------  --------  --------  --------  -----  --------  ----------  ----------  ----\n",
      "Age                           2000            0       2000         100            58     46.56     17.11     46        22.24   18       75           0.02       -1.25  0.37\n",
      "alcohol_consumption_per_d     2000          242       1758          87.9         488    251.01    143.65    250       186.81    0      499          -0.01       -1.22\n",
      "BMI                           2000            0       2000         100            41     30.08     11.76     30        14.83   10       50          -0.02       -1.18  0.39\n",
      "Genetic_Pedigree_Coeffici     2000           92       1908          95.4         101      0.49      0.29      0.49      0.37    0        1           0.02       -1.18\n",
      "Level_of_Hemoglobin           2000            0       2000         100           757     11.71      2.19     11.33      2.02    8.1     17.56        0.66       -0.18  0.19\n",
      "Level_of_Stress               2000            0       2000         100             3      2.01      0.82      2         1.48    1        3          -0.02       -1.53  0.41\n",
      "Physical_activity             2000            0       2000         100          1951  25254.4   14015.4   25353     17633.3   628    49980          -0.01       -1.16  0.55\n",
      "Pregnancy                     2000         1558        442          22.1           2      0.45      0.5       0         0       0        1           0.2        -1.97\n",
      "salt_content_in_the_diet      2000            0       2000         100          1945  24926.1   14211.7   25046.5   17514      22    49976          -0.02       -1.15  0.57\n",
      "Sex                           2000            0       2000         100             2      0.5       0.5       0         0       0        1           0.02       -2\n",
      "Smoking                       2000            0       2000         100             2      0.51      0.5       1         0       0        1          -0.04       -2\n",
      "                             N Obs    N Missing    N Valid    % Complete    N Unique\n",
      "-------------------------  -------  -----------  ---------  ------------  ----------\n",
      "Blood_Pressure_Abnormalit     2000            0       2000           100           2\n",
      "Chronic_kidney_disease        2000            0       2000           100           2\n"
     ]
    }
   ],
   "source": [
    "def data_exploration_csv(filepath):\n",
    "    # Set console printing options \n",
    "    pd.set_option('display.max_rows', 500)\n",
    "    pd.set_option('display.max_columns', 20)\n",
    "    pd.set_option('display.width', 1000)\n",
    "\n",
    "    # Upload the data\n",
    "    df = pd.read_csv(filepath, sep = \",\", decimal =\".\",  keep_default_na = False, na_values = '', index_col=0)\n",
    "    # Column indices of selected continuous variables\n",
    "    cols_continuous = [1,2,3,4,5,6,7,8,9,10,11]\n",
    "    # Data frame of the continuous variables\n",
    "    df_num = df.iloc[:,cols_continuous]\n",
    "    # Column indices of selected discrete variables\n",
    "    cols_discrete = [0,12]\n",
    "    # Data frame of the discrete variables\n",
    "    df_cat = df.iloc[:,cols_discrete]\n",
    "    # Continuous variables, descriptive statistics\n",
    "    df_num.sort_index(axis=1, inplace=True, key=lambda x: x.str.lower())\n",
    "    df_num_stats = df_num.describe()\n",
    "    df_num_stats = df_num_stats.transpose()\n",
    "    df_num_stats.drop(columns=['25%', '75%'], inplace=True)\n",
    "    df_num_stats.rename(columns={\"count\": \"N Valid\", \"mean\": \"Mean\", \"50%\": \"Median\", \n",
    "                                \"std\": \"SD\", \"min\": \"Min\", \"max\": \"Max\"}, inplace=True)\n",
    "    df_num_stats[\"N Obs\"] = df_num.shape[0]\n",
    "    df_num_stats[\"N Missing\"] = df_num.isna().sum()\n",
    "    df_num_stats[\"% Complete\"] = (df_num_stats[\"N Valid\"] / df_num_stats[\"N Obs\"])*100\n",
    "    df_num_stats[\"N Unique\"] = df_num.nunique(dropna=True)\n",
    "    df_num_stats[\"MAD\"] = df_num.apply(lambda x: stats.median_abs_deviation(x, scale=\"normal\", nan_policy='omit'))    \n",
    "    df_num_stats[\"Skewness\"] = df_num.skew(axis=0)\n",
    "    df_num_stats[\"Kurtosis\"] = df_num.kurtosis(axis=0)\n",
    "    df_num_stats.loc[df_num_stats[\"Min\"]>0,\"CV\"] = df_num_stats[\"SD\"] / df_num_stats[\"Mean\"]\n",
    "    df_num_stats = df_num_stats.round(2)\n",
    "    df_num_stats.loc[df_num_stats[\"Min\"]<=0,\"CV\"] = \"\"\n",
    "\n",
    "    ## Reorder columns to be similar to the output of the R app \n",
    "    df_num_stats = df_num_stats.reindex(columns=[\"N Obs\", \"N Missing\", \"N Valid\", \n",
    "                                                \"% Complete\", \"N Unique\", \"Mean\", \n",
    "                                                \"SD\", \"Median\", \"MAD\", \"Min\", \"Max\", \n",
    "                                                \"Skewness\", \"Kurtosis\", \"CV\"]) \n",
    "\n",
    "    ## Restrict size of characters of index \n",
    "    cnames = np.array(df_num_stats.index).astype('str')\n",
    "    csize = min(np.max(np.char.str_len(cnames)),25)\n",
    "    df_num_stats.index = list(map(lambda x: x[0:csize], cnames))\n",
    "\n",
    "    ## Output\n",
    "    print(tabulate(df_num_stats, headers='keys', tablefmt=\"simple\"))\n",
    "    \n",
    "def Categorical_Variables_csv(filepath):\n",
    "    #Pre_processing\n",
    "    # Set console printing options \n",
    "    pd.set_option('display.max_rows', 5000)\n",
    "    pd.set_option('display.max_columns', 200)\n",
    "    pd.set_option('display.width', 10000)\n",
    "\n",
    "    # Upload the data\n",
    "    df = pd.read_csv(filepath, sep = \",\", decimal =\".\",  keep_default_na = False, na_values = '', index_col=0)\n",
    "    \n",
    "    # Column indices of selected continuous variables\n",
    "    cols_continuous = [1,2,3,4,5,6,7,8,9,10,11]\n",
    "    # Data frame of the continuous variables\n",
    "    df_num = df.iloc[:,cols_continuous]\n",
    "    # Column indices of selected discrete variables\n",
    "    cols_discrete = [0,12]\n",
    "    # Data frame of the discrete variables\n",
    "    df_cat = df.iloc[:,cols_discrete]\n",
    "    \n",
    "    ## Table Totals \n",
    "    nobs = np.ones(df_cat.shape[1])*df_cat.shape[0]\n",
    "    nobs = nobs.astype(int)\n",
    "    df_cat.sort_index(axis=1, inplace=True, key=lambda x: x.str.lower())\n",
    "    df_cat = df_cat.astype(\"string\")\n",
    "    df_cat_stats = pd.DataFrame(nobs, columns=['N Obs'], index=df_cat.columns)\n",
    "    df_cat_stats[\"N Missing\"] = df_cat.isna().sum()\n",
    "    df_cat_stats[\"N Valid\"] = df_cat.count()\n",
    "    df_cat_stats[\"% Complete\"] = (df_cat_stats[\"N Valid\"] / df_cat_stats[\"N Obs\"])*100\n",
    "    df_cat_stats[\"N Unique\"] = df_cat.nunique(dropna=False)\n",
    "    df_cat_stats = df_cat_stats.round(2)\n",
    "\n",
    "    ### Restrict size of characters of index \n",
    "    cnames = np.array(df_cat_stats.index).astype('str')\n",
    "    csize = min(np.max(np.char.str_len(cnames)),25)\n",
    "    df_cat_stats.index = list(map(lambda x: x[0:csize], cnames))\n",
    "\n",
    "    ### Output\n",
    "    print(tabulate(df_cat_stats, headers='keys', tablefmt=\"simple\"))\n",
    "\n",
    "\n",
    "data_exploration_csv(\"data.csv\")\n",
    "Categorical_Variables_csv(\"data.csv\")"
   ]
  },
  {
   "cell_type": "markdown",
   "metadata": {},
   "source": [
    "Data Preparation"
   ]
  },
  {
   "cell_type": "code",
   "execution_count": null,
   "metadata": {},
   "outputs": [],
   "source": []
  },
  {
   "cell_type": "markdown",
   "metadata": {},
   "source": [
    "Model Choosing"
   ]
  },
  {
   "cell_type": "code",
   "execution_count": null,
   "metadata": {},
   "outputs": [],
   "source": []
  },
  {
   "cell_type": "markdown",
   "metadata": {},
   "source": [
    "Training Model"
   ]
  },
  {
   "cell_type": "code",
   "execution_count": null,
   "metadata": {},
   "outputs": [],
   "source": []
  },
  {
   "cell_type": "markdown",
   "metadata": {},
   "source": [
    "Evaluting Model"
   ]
  },
  {
   "cell_type": "code",
   "execution_count": null,
   "metadata": {},
   "outputs": [],
   "source": []
  },
  {
   "cell_type": "markdown",
   "metadata": {},
   "source": [
    "Parameter Tuning"
   ]
  },
  {
   "cell_type": "code",
   "execution_count": null,
   "metadata": {},
   "outputs": [],
   "source": []
  },
  {
   "cell_type": "markdown",
   "metadata": {},
   "source": [
    "Predictions"
   ]
  },
  {
   "cell_type": "code",
   "execution_count": null,
   "metadata": {},
   "outputs": [],
   "source": []
  },
  {
   "cell_type": "markdown",
   "metadata": {},
   "source": [
    "Summary"
   ]
  },
  {
   "cell_type": "code",
   "execution_count": null,
   "metadata": {},
   "outputs": [],
   "source": []
  }
 ],
 "metadata": {
  "interpreter": {
   "hash": "ad2bdc8ecc057115af97d19610ffacc2b4e99fae6737bb82f5d7fb13d2f2c186"
  },
  "kernelspec": {
   "display_name": "Python 3.8.12 ('base')",
   "language": "python",
   "name": "python3"
  },
  "language_info": {
   "codemirror_mode": {
    "name": "ipython",
    "version": 3
   },
   "file_extension": ".py",
   "mimetype": "text/x-python",
   "name": "python",
   "nbconvert_exporter": "python",
   "pygments_lexer": "ipython3",
   "version": "3.8.12"
  },
  "orig_nbformat": 4
 },
 "nbformat": 4,
 "nbformat_minor": 2
}
